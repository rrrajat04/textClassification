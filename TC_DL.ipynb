{
 "cells": [
  {
   "cell_type": "code",
   "execution_count": 1,
   "id": "79c74927-436c-44a1-a11c-09db361cd069",
   "metadata": {},
   "outputs": [],
   "source": [
    "import json \n",
    "import numpy as np\n",
    "import pandas as pd\n",
    "from tqdm import tqdm\n",
    "tqdm.pandas()\n",
    "import re, nltk, spacy, string\n",
    "\n",
    "nlp = spacy.load(\"C:/Users/rrraj/AppData/Roaming/Python/Python38/site-packages/en_core_web_sm/en_core_web_sm-3.0.0\")\n",
    "import seaborn as sns\n",
    "from textblob import TextBlob\n",
    "from wordcloud import WordCloud, STOPWORDS\n",
    "import matplotlib.pyplot as plt\n",
    "%matplotlib inline\n",
    "\n",
    "from plotly.offline import plot\n",
    "import plotly.graph_objects as go\n",
    "import plotly.express as px\n",
    "\n",
    "from sklearn.feature_extraction.text import CountVectorizer, TfidfVectorizer, TfidfTransformer\n",
    "from pprint import pprint\n",
    "\n",
    "from sklearn.model_selection import train_test_split, GridSearchCV, RandomizedSearchCV\n",
    "from sklearn.metrics import confusion_matrix, f1_score, classification_report"
   ]
  },
  {
   "cell_type": "code",
   "execution_count": 2,
   "id": "38bd6951-8701-488c-a772-9f94dbc09006",
   "metadata": {},
   "outputs": [],
   "source": [
    "# Opening JSON file \n",
    "f = \"complaints-2021-05-14_08_16.json\"# Write the path to your data file and load it \n",
    "  \n",
    "# returns JSON object as  \n",
    "# a dictionary \n",
    "with open(f,'r') as file:\n",
    "    data = json.load(file)\n",
    "df=pd.json_normalize(data)"
   ]
  },
  {
   "cell_type": "code",
   "execution_count": 3,
   "id": "5c44e08a-6c08-4edc-86a1-8aad3199a0e2",
   "metadata": {},
   "outputs": [
    {
     "data": {
      "text/plain": [
       "Index(['index', 'type', 'id', 'score', 'tags', 'zip_code', 'complaint_id',\n",
       "       'issue', 'date_received', 'state', 'consumer_disputed', 'product',\n",
       "       'company_response', 'company', 'submitted_via', 'date_sent_to_company',\n",
       "       'company_public_response', 'sub_product', 'timely',\n",
       "       'complaints_what_happened', 'sub_issue', 'consumer_consent_provided'],\n",
       "      dtype='object')"
      ]
     },
     "execution_count": 3,
     "metadata": {},
     "output_type": "execute_result"
    }
   ],
   "source": [
    "#Assign new column names\n",
    "df.rename(columns={'_index':'index', '_type':'type', '_id':'id', '_score':'score',\n",
    "                    '_source.complaint_what_happened':'complaints_what_happened', '_source.product':'product',\n",
    "                   '_source.zip_code':'zip_code','_source.complaint_id':'complaint_id', '_source.issue':'issue',\n",
    "                  '_source.tags':'tags','_source.date_received':'date_received','_source.state':'state',\n",
    "                   '_source.consumer_disputed':'consumer_disputed','_source.company_response':'company_response',\n",
    "                  '_source.company':'company','_source.submitted_via':'submitted_via','_source.date_sent_to_company':'date_sent_to_company', '_source.company_public_response':'company_public_response',\n",
    "                   '_source.sub_product':'sub_product', '_source.timely':'timely', '_source.sub_issue':'sub_issue',\n",
    "                   '_source.consumer_consent_provided':'consumer_consent_provided'}, inplace=True)\n",
    "df.columns"
   ]
  },
  {
   "cell_type": "code",
   "execution_count": 4,
   "id": "534c8379-0cec-4b59-addc-4d5ee5639470",
   "metadata": {},
   "outputs": [],
   "source": [
    "#Assign nan in place of blanks in the complaints column\n",
    "df['complaints_what_happened'].replace(\"\", np.nan, inplace=True)"
   ]
  },
  {
   "cell_type": "code",
   "execution_count": 5,
   "id": "cfe23d6e-c349-46c2-9b47-32086563900e",
   "metadata": {},
   "outputs": [],
   "source": [
    "#Remove all rows where complaints column is nan\n",
    "df.dropna(subset=['complaints_what_happened'], inplace=True)"
   ]
  },
  {
   "cell_type": "code",
   "execution_count": 6,
   "id": "2bbf7b08-f961-4c46-be40-cb60f2490836",
   "metadata": {},
   "outputs": [],
   "source": [
    "# Write your function here to clean the text and remove all the unnecessary elements.\n",
    "def clean_noisy_text(text):\n",
    "    #Make the text lowercase\n",
    "    text=text.lower()\n",
    "    \n",
    "    #Remove text in square brackets\n",
    "    text=re.sub(r'\\[.*?\\]','',text)\n",
    "    \n",
    "    #Remove punctuation\n",
    "    text=re.sub(r'[%s]%re.escape(string.punctuation)','',text)\n",
    "    \n",
    "    #Remove words containing numbers\n",
    "    text = re.sub(r'\\w*\\d\\w*', '', text)\n",
    "    \n",
    "    return text"
   ]
  },
  {
   "cell_type": "code",
   "execution_count": 7,
   "id": "9df74ffb-2465-4761-b3f6-4a89b348f98c",
   "metadata": {},
   "outputs": [],
   "source": [
    "#Write your function to Lemmatize the texts\n",
    "def lemmatize_text(text):     \n",
    "        \n",
    "    # Initialize empty list to store lemmas\n",
    "    lemma_list = []\n",
    "    \n",
    "    # Extract lemmas of given text and add to the list 'sent'\n",
    "    document = nlp(text)\n",
    "    for word in document:\n",
    "        lemma_list.append(word.lemma_)\n",
    "        \n",
    "    # return string converted form of the list of lemmas\n",
    "    return \" \".join(lemma_list)"
   ]
  },
  {
   "cell_type": "code",
   "execution_count": 8,
   "id": "67a29204-107c-4736-823c-48116e9f5bf6",
   "metadata": {},
   "outputs": [
    {
     "name": "stderr",
     "output_type": "stream",
     "text": [
      "100%|████████████████████████████████████████████████████████████████████████████| 21072/21072 [10:17<00:00, 34.10it/s]\n",
      "C:\\Users\\rrraj\\AppData\\Local\\Temp\\ipykernel_5424\\2963758196.py:3: SettingWithCopyWarning:\n",
      "\n",
      "\n",
      "A value is trying to be set on a copy of a slice from a DataFrame.\n",
      "Try using .loc[row_indexer,col_indexer] = value instead\n",
      "\n",
      "See the caveats in the documentation: https://pandas.pydata.org/pandas-docs/stable/user_guide/indexing.html#returning-a-view-versus-a-copy\n",
      "\n"
     ]
    }
   ],
   "source": [
    "#Create a dataframe('df_clean') that will have only the complaints and the lemmatized complaints \n",
    "df_clean = df[['complaints_what_happened']] \n",
    "df_clean['lemmatized_complaints'] = df_clean['complaints_what_happened'].progress_apply(lambda x: lemmatize_text(x))"
   ]
  },
  {
   "cell_type": "code",
   "execution_count": 9,
   "id": "c6e7c37f-0f2c-4ba4-809a-1fe60da1e744",
   "metadata": {},
   "outputs": [
    {
     "name": "stderr",
     "output_type": "stream",
     "text": [
      "100%|████████████████████████████████████████████████████████████████████████████| 21072/21072 [06:00<00:00, 58.49it/s]\n",
      "C:\\Users\\rrraj\\AppData\\Local\\Temp\\ipykernel_5424\\1988406740.py:13: SettingWithCopyWarning:\n",
      "\n",
      "\n",
      "A value is trying to be set on a copy of a slice from a DataFrame.\n",
      "Try using .loc[row_indexer,col_indexer] = value instead\n",
      "\n",
      "See the caveats in the documentation: https://pandas.pydata.org/pandas-docs/stable/user_guide/indexing.html#returning-a-view-versus-a-copy\n",
      "\n"
     ]
    }
   ],
   "source": [
    "#Write your function to extract the POS tags \n",
    "\n",
    "def get_pos_tag(text):\n",
    "  # write your code here\n",
    "    # Creating a textblob object\n",
    "    text_blob = TextBlob(text)\n",
    "\n",
    "    # extracting words with tags 'NN', joining them and return\n",
    "    return ' '.join([ word for (word,tag) in text_blob.tags if tag == \"NN\"])\n",
    "\n",
    "\n",
    "\n",
    "df_clean[\"complaint_POS_removed\"] =  df_clean['lemmatized_complaints'].progress_apply(lambda x: get_pos_tag(x))#this column should contain lemmatized text with all the words removed which have tags other than NN[tag == \"NN\"].\n"
   ]
  },
  {
   "cell_type": "code",
   "execution_count": 10,
   "id": "4104d0c9-9b19-43e0-85ab-ad7e6db3fe2a",
   "metadata": {},
   "outputs": [
    {
     "data": {
      "text/html": [
       "<div>\n",
       "<style scoped>\n",
       "    .dataframe tbody tr th:only-of-type {\n",
       "        vertical-align: middle;\n",
       "    }\n",
       "\n",
       "    .dataframe tbody tr th {\n",
       "        vertical-align: top;\n",
       "    }\n",
       "\n",
       "    .dataframe thead th {\n",
       "        text-align: right;\n",
       "    }\n",
       "</style>\n",
       "<table border=\"1\" class=\"dataframe\">\n",
       "  <thead>\n",
       "    <tr style=\"text-align: right;\">\n",
       "      <th></th>\n",
       "      <th>complaints_what_happened</th>\n",
       "      <th>lemmatized_complaints</th>\n",
       "      <th>complaint_POS_removed</th>\n",
       "    </tr>\n",
       "  </thead>\n",
       "  <tbody>\n",
       "    <tr>\n",
       "      <th>1</th>\n",
       "      <td>Good morning my name is XXXX XXXX and I apprec...</td>\n",
       "      <td>good morning my name be xxxx XXXX and I apprec...</td>\n",
       "      <td>morning name stop service ask debt verificatio...</td>\n",
       "    </tr>\n",
       "    <tr>\n",
       "      <th>2</th>\n",
       "      <td>I upgraded my XXXX XXXX card in XX/XX/2018 and...</td>\n",
       "      <td>I upgrade my xxxx xxxx card in XX / XX/2018 an...</td>\n",
       "      <td>card agent upgrade date agent information orde...</td>\n",
       "    </tr>\n",
       "    <tr>\n",
       "      <th>10</th>\n",
       "      <td>Chase Card was reported on XX/XX/2019. However...</td>\n",
       "      <td>Chase Card be report on XX / XX/2019 . however...</td>\n",
       "      <td>application identity consent service credit id...</td>\n",
       "    </tr>\n",
       "    <tr>\n",
       "      <th>11</th>\n",
       "      <td>On XX/XX/2018, while trying to book a XXXX  XX...</td>\n",
       "      <td>on XX / XX/2018 , while try to book a xxxx   x...</td>\n",
       "      <td>try book xxxx ticket offer ticket card informa...</td>\n",
       "    </tr>\n",
       "    <tr>\n",
       "      <th>14</th>\n",
       "      <td>my grand son give me check for {$1600.00} i de...</td>\n",
       "      <td>my grand son give I check for { $ 1600.00 } I ...</td>\n",
       "      <td>son chase account fund bank account pay money ...</td>\n",
       "    </tr>\n",
       "  </tbody>\n",
       "</table>\n",
       "</div>"
      ],
      "text/plain": [
       "                             complaints_what_happened  \\\n",
       "1   Good morning my name is XXXX XXXX and I apprec...   \n",
       "2   I upgraded my XXXX XXXX card in XX/XX/2018 and...   \n",
       "10  Chase Card was reported on XX/XX/2019. However...   \n",
       "11  On XX/XX/2018, while trying to book a XXXX  XX...   \n",
       "14  my grand son give me check for {$1600.00} i de...   \n",
       "\n",
       "                                lemmatized_complaints  \\\n",
       "1   good morning my name be xxxx XXXX and I apprec...   \n",
       "2   I upgrade my xxxx xxxx card in XX / XX/2018 an...   \n",
       "10  Chase Card be report on XX / XX/2019 . however...   \n",
       "11  on XX / XX/2018 , while try to book a xxxx   x...   \n",
       "14  my grand son give I check for { $ 1600.00 } I ...   \n",
       "\n",
       "                                complaint_POS_removed  \n",
       "1   morning name stop service ask debt verificatio...  \n",
       "2   card agent upgrade date agent information orde...  \n",
       "10  application identity consent service credit id...  \n",
       "11  try book xxxx ticket offer ticket card informa...  \n",
       "14  son chase account fund bank account pay money ...  "
      ]
     },
     "execution_count": 10,
     "metadata": {},
     "output_type": "execute_result"
    }
   ],
   "source": [
    "df_clean.head(5)"
   ]
  },
  {
   "cell_type": "code",
   "execution_count": 12,
   "id": "60f0ff98-c6af-43b8-96c0-56f9dd0e2885",
   "metadata": {},
   "outputs": [
    {
     "name": "stderr",
     "output_type": "stream",
     "text": [
      "C:\\Users\\rrraj\\AppData\\Local\\Temp\\ipykernel_5424\\3655474111.py:2: SettingWithCopyWarning:\n",
      "\n",
      "\n",
      "A value is trying to be set on a copy of a slice from a DataFrame.\n",
      "Try using .loc[row_indexer,col_indexer] = value instead\n",
      "\n",
      "See the caveats in the documentation: https://pandas.pydata.org/pandas-docs/stable/user_guide/indexing.html#returning-a-view-versus-a-copy\n",
      "\n"
     ]
    }
   ],
   "source": [
    "#Removing -PRON- from the text corpus\n",
    "df_clean['Complaint_clean'] = df_clean['complaint_POS_removed'].str.replace('-PRON-', '')"
   ]
  },
  {
   "cell_type": "code",
   "execution_count": 13,
   "id": "19a01f44-da7a-4878-adb1-f85c87a9afc0",
   "metadata": {},
   "outputs": [
    {
     "name": "stderr",
     "output_type": "stream",
     "text": [
      "C:\\Users\\rrraj\\AppData\\Local\\Temp\\ipykernel_5424\\619742717.py:1: SettingWithCopyWarning:\n",
      "\n",
      "\n",
      "A value is trying to be set on a copy of a slice from a DataFrame.\n",
      "Try using .loc[row_indexer,col_indexer] = value instead\n",
      "\n",
      "See the caveats in the documentation: https://pandas.pydata.org/pandas-docs/stable/user_guide/indexing.html#returning-a-view-versus-a-copy\n",
      "\n"
     ]
    }
   ],
   "source": [
    "df_clean['Complaint_clean'] = df_clean['Complaint_clean'].str.replace('xxxx','')"
   ]
  },
  {
   "cell_type": "code",
   "execution_count": 14,
   "id": "dd8020d5-671b-47d7-8804-0244f07b6bf0",
   "metadata": {},
   "outputs": [],
   "source": [
    "#Write your code here to initialise the TfidfVectorizer \n",
    "tfid_vectorizer = TfidfVectorizer(max_df=0.95,min_df=2,stop_words='english')"
   ]
  },
  {
   "cell_type": "code",
   "execution_count": 15,
   "id": "c1c2bcf5-98c0-45b7-82c5-b14874d2a01a",
   "metadata": {},
   "outputs": [],
   "source": [
    "#Write your code here to create the Document Term Matrix by transforming the complaints column present in df_clean.\n",
    "tfidf_features = tfid_vectorizer.fit_transform(df_clean['Complaint_clean'])"
   ]
  },
  {
   "cell_type": "code",
   "execution_count": 16,
   "id": "41bb3a10-085d-4cef-a91e-a1cce272ca2e",
   "metadata": {},
   "outputs": [],
   "source": [
    "from sklearn.decomposition import NMF\n",
    "import gensim\n",
    "from gensim.corpora.dictionary import Dictionary"
   ]
  },
  {
   "cell_type": "code",
   "execution_count": 17,
   "id": "3799e423-1468-439b-8da8-288211bf511c",
   "metadata": {},
   "outputs": [],
   "source": [
    "#Load your nmf_model with the n_components i.e 5\n",
    "num_topics = 10#write the value you want to test out\n",
    "\n",
    "n_components = 4\n",
    "init = \"nndsvda\"\n",
    "\n",
    "#keep the random_state =40\n",
    "nmf_model = NMF(\n",
    "        n_components=n_components,\n",
    "        random_state=1,\n",
    "        init=init,\n",
    "        beta_loss=\"frobenius\",\n",
    "        alpha_W=0.00005,\n",
    "        alpha_H=0.00005,\n",
    "        l1_ratio=1\n",
    "    )"
   ]
  },
  {
   "cell_type": "code",
   "execution_count": 18,
   "id": "79efcb28-49c1-4f4d-9839-312618f0ef70",
   "metadata": {},
   "outputs": [
    {
     "name": "stderr",
     "output_type": "stream",
     "text": [
      "C:\\Users\\rrraj\\anaconda3\\envs\\mlops\\lib\\site-packages\\sklearn\\utils\\deprecation.py:87: FutureWarning:\n",
      "\n",
      "Function get_feature_names is deprecated; get_feature_names is deprecated in 1.0 and will be removed in 1.2. Please use get_feature_names_out instead.\n",
      "\n"
     ]
    },
    {
     "data": {
      "text/plain": [
       "6517"
      ]
     },
     "execution_count": 18,
     "metadata": {},
     "output_type": "execute_result"
    }
   ],
   "source": [
    "nmf_model.fit(tfidf_features)\n",
    "len(tfid_vectorizer.get_feature_names())"
   ]
  },
  {
   "cell_type": "code",
   "execution_count": 19,
   "id": "163c8421-1b44-4d1f-8efe-08155959f6f5",
   "metadata": {},
   "outputs": [
    {
     "name": "stdout",
     "output_type": "stream",
     "text": [
      "TOP 15 WORDS FOR TOPIC #0\n",
      "['customer', 'fee', 'business', 'time', 'branch', 'claim', 'number', 'transaction', 'deposit', 'day', 'fund', 'money', 'check', 'bank', 'account']\n",
      "\n",
      "\n",
      "TOP 15 WORDS FOR TOPIC #1\n",
      "['time', 'debt', 'year', 'account', 'application', 'limit', 'letter', 'information', 'balance', 'score', 'company', 'inquiry', 'report', 'card', 'credit']\n",
      "\n",
      "\n",
      "TOP 15 WORDS FOR TOPIC #2\n",
      "['pay', 'day', 'fee', 'date', 'rate', 'statement', 'home', 'balance', 'year', 'modification', 'time', 'month', 'mortgage', 'loan', 'payment']\n",
      "\n",
      "\n",
      "TOP 15 WORDS FOR TOPIC #3\n",
      "['refund', 'month', 'time', 'company', 'service', 'balance', 'fraud', 'statement', 'purchase', 'transaction', 'merchant', 'card', 'dispute', 'fee', 'charge']\n",
      "\n",
      "\n"
     ]
    }
   ],
   "source": [
    "#Print the Top15 words for each of the topics\n",
    "for index, topic in enumerate(nmf_model.components_):\n",
    "    print(f'TOP 15 WORDS FOR TOPIC #{index}')\n",
    "    print([tfid_vectorizer.get_feature_names()[i] for i in topic.argsort()[-15:]])\n",
    "    print('\\n')"
   ]
  },
  {
   "cell_type": "code",
   "execution_count": 20,
   "id": "d8ef01ed-0ec2-41dd-8ca8-50d80cbb6123",
   "metadata": {},
   "outputs": [
    {
     "data": {
      "text/plain": [
       "array([0, 0, 1, ..., 0, 2, 2], dtype=int64)"
      ]
     },
     "execution_count": 20,
     "metadata": {},
     "output_type": "execute_result"
    }
   ],
   "source": [
    "#Create the best topic for each complaint in terms of integer value 0,1,2,3 & 4\n",
    "\n",
    "topic_result = nmf_model.transform(tfidf_features)\n",
    "topic_result[0].round(2)\n",
    "topic_result[0].argmax()\n",
    "topic_result.argmax(axis=1)"
   ]
  },
  {
   "cell_type": "code",
   "execution_count": 21,
   "id": "21f59c59-ef8a-42c8-9abe-8b7f46ec8f25",
   "metadata": {},
   "outputs": [
    {
     "name": "stderr",
     "output_type": "stream",
     "text": [
      "C:\\Users\\rrraj\\AppData\\Local\\Temp\\ipykernel_5424\\2035130174.py:3: SettingWithCopyWarning:\n",
      "\n",
      "\n",
      "A value is trying to be set on a copy of a slice from a DataFrame.\n",
      "Try using .loc[row_indexer,col_indexer] = value instead\n",
      "\n",
      "See the caveats in the documentation: https://pandas.pydata.org/pandas-docs/stable/user_guide/indexing.html#returning-a-view-versus-a-copy\n",
      "\n"
     ]
    }
   ],
   "source": [
    "#Assign the best topic to each of the cmplaints in Topic Column\n",
    "\n",
    "df_clean['Topic'] = topic_result.argmax(axis=1)#write your code to assign topics to each rows."
   ]
  },
  {
   "cell_type": "code",
   "execution_count": 22,
   "id": "f09cff99-ab0b-4d2c-95d7-a032ff1fb904",
   "metadata": {},
   "outputs": [
    {
     "name": "stderr",
     "output_type": "stream",
     "text": [
      "C:\\Users\\rrraj\\AppData\\Local\\Temp\\ipykernel_5424\\2478337050.py:5: SettingWithCopyWarning:\n",
      "\n",
      "\n",
      "A value is trying to be set on a copy of a slice from a DataFrame.\n",
      "Try using .loc[row_indexer,col_indexer] = value instead\n",
      "\n",
      "See the caveats in the documentation: https://pandas.pydata.org/pandas-docs/stable/user_guide/indexing.html#returning-a-view-versus-a-copy\n",
      "\n"
     ]
    }
   ],
   "source": [
    "#Create the dictionary of Topic names and Topics\n",
    "\n",
    "Topic_names = { 0: \"Customer Details\", 1: \"Credit Card Details\", 2: \"Loan/Mortgage\", 3: \"Transactions\"  }\n",
    "#Replace Topics with Topic Names\n",
    "df_clean['Topic'] = df_clean['Topic'].map(Topic_names)"
   ]
  },
  {
   "cell_type": "code",
   "execution_count": 23,
   "id": "e757c2ae-6ece-463a-b8fd-54dffd063bef",
   "metadata": {},
   "outputs": [
    {
     "data": {
      "text/html": [
       "<div>\n",
       "<style scoped>\n",
       "    .dataframe tbody tr th:only-of-type {\n",
       "        vertical-align: middle;\n",
       "    }\n",
       "\n",
       "    .dataframe tbody tr th {\n",
       "        vertical-align: top;\n",
       "    }\n",
       "\n",
       "    .dataframe thead th {\n",
       "        text-align: right;\n",
       "    }\n",
       "</style>\n",
       "<table border=\"1\" class=\"dataframe\">\n",
       "  <thead>\n",
       "    <tr style=\"text-align: right;\">\n",
       "      <th></th>\n",
       "      <th>complaints_what_happened</th>\n",
       "      <th>lemmatized_complaints</th>\n",
       "      <th>complaint_POS_removed</th>\n",
       "      <th>Complaint_clean</th>\n",
       "      <th>Topic</th>\n",
       "    </tr>\n",
       "  </thead>\n",
       "  <tbody>\n",
       "    <tr>\n",
       "      <th>1</th>\n",
       "      <td>Good morning my name is XXXX XXXX and I apprec...</td>\n",
       "      <td>good morning my name be xxxx XXXX and I apprec...</td>\n",
       "      <td>morning name stop service ask debt verificatio...</td>\n",
       "      <td>morning name stop service ask debt verificatio...</td>\n",
       "      <td>Customer Details</td>\n",
       "    </tr>\n",
       "    <tr>\n",
       "      <th>2</th>\n",
       "      <td>I upgraded my XXXX XXXX card in XX/XX/2018 and...</td>\n",
       "      <td>I upgrade my xxxx xxxx card in XX / XX/2018 an...</td>\n",
       "      <td>card agent upgrade date agent information orde...</td>\n",
       "      <td>card agent upgrade date agent information orde...</td>\n",
       "      <td>Customer Details</td>\n",
       "    </tr>\n",
       "    <tr>\n",
       "      <th>10</th>\n",
       "      <td>Chase Card was reported on XX/XX/2019. However...</td>\n",
       "      <td>Chase Card be report on XX / XX/2019 . however...</td>\n",
       "      <td>application identity consent service credit id...</td>\n",
       "      <td>application identity consent service credit id...</td>\n",
       "      <td>Credit Card Details</td>\n",
       "    </tr>\n",
       "    <tr>\n",
       "      <th>11</th>\n",
       "      <td>On XX/XX/2018, while trying to book a XXXX  XX...</td>\n",
       "      <td>on XX / XX/2018 , while try to book a xxxx   x...</td>\n",
       "      <td>try book xxxx ticket offer ticket card informa...</td>\n",
       "      <td>try book  ticket offer ticket card information...</td>\n",
       "      <td>Credit Card Details</td>\n",
       "    </tr>\n",
       "    <tr>\n",
       "      <th>14</th>\n",
       "      <td>my grand son give me check for {$1600.00} i de...</td>\n",
       "      <td>my grand son give I check for { $ 1600.00 } I ...</td>\n",
       "      <td>son chase account fund bank account pay money ...</td>\n",
       "      <td>son chase account fund bank account pay money ...</td>\n",
       "      <td>Customer Details</td>\n",
       "    </tr>\n",
       "    <tr>\n",
       "      <th>...</th>\n",
       "      <td>...</td>\n",
       "      <td>...</td>\n",
       "      <td>...</td>\n",
       "      <td>...</td>\n",
       "      <td>...</td>\n",
       "    </tr>\n",
       "    <tr>\n",
       "      <th>78303</th>\n",
       "      <td>After being a Chase Card customer for well ove...</td>\n",
       "      <td>after be a Chase Card customer for well over a...</td>\n",
       "      <td>customer decade solicitation credit card airli...</td>\n",
       "      <td>customer decade solicitation credit card airli...</td>\n",
       "      <td>Credit Card Details</td>\n",
       "    </tr>\n",
       "    <tr>\n",
       "      <th>78309</th>\n",
       "      <td>On Wednesday, XX/XX/XXXX I called Chas, my XXX...</td>\n",
       "      <td>on Wednesday , XX / XX / XXXX I call Chas , my...</td>\n",
       "      <td>provider claim purchase protection benefit sch...</td>\n",
       "      <td>provider claim purchase protection benefit sch...</td>\n",
       "      <td>Customer Details</td>\n",
       "    </tr>\n",
       "    <tr>\n",
       "      <th>78310</th>\n",
       "      <td>I am not familiar with XXXX pay and did not un...</td>\n",
       "      <td>I be not familiar with xxxx pay and do not und...</td>\n",
       "      <td>pay risk provide consumer bank app year mobile...</td>\n",
       "      <td>pay risk provide consumer bank app year mobile...</td>\n",
       "      <td>Customer Details</td>\n",
       "    </tr>\n",
       "    <tr>\n",
       "      <th>78311</th>\n",
       "      <td>I have had flawless credit for 30 yrs. I've ha...</td>\n",
       "      <td>I have have flawless credit for 30 yrs . I 've...</td>\n",
       "      <td>credit yrs credit card xxxx problem balance tr...</td>\n",
       "      <td>credit yrs credit card  problem balance transf...</td>\n",
       "      <td>Loan/Mortgage</td>\n",
       "    </tr>\n",
       "    <tr>\n",
       "      <th>78312</th>\n",
       "      <td>Roughly 10+ years ago I closed out my accounts...</td>\n",
       "      <td>roughly 10 + year ago I close out my account w...</td>\n",
       "      <td>year account order line credit account payment...</td>\n",
       "      <td>year account order line credit account payment...</td>\n",
       "      <td>Loan/Mortgage</td>\n",
       "    </tr>\n",
       "  </tbody>\n",
       "</table>\n",
       "<p>21072 rows × 5 columns</p>\n",
       "</div>"
      ],
      "text/plain": [
       "                                complaints_what_happened  \\\n",
       "1      Good morning my name is XXXX XXXX and I apprec...   \n",
       "2      I upgraded my XXXX XXXX card in XX/XX/2018 and...   \n",
       "10     Chase Card was reported on XX/XX/2019. However...   \n",
       "11     On XX/XX/2018, while trying to book a XXXX  XX...   \n",
       "14     my grand son give me check for {$1600.00} i de...   \n",
       "...                                                  ...   \n",
       "78303  After being a Chase Card customer for well ove...   \n",
       "78309  On Wednesday, XX/XX/XXXX I called Chas, my XXX...   \n",
       "78310  I am not familiar with XXXX pay and did not un...   \n",
       "78311  I have had flawless credit for 30 yrs. I've ha...   \n",
       "78312  Roughly 10+ years ago I closed out my accounts...   \n",
       "\n",
       "                                   lemmatized_complaints  \\\n",
       "1      good morning my name be xxxx XXXX and I apprec...   \n",
       "2      I upgrade my xxxx xxxx card in XX / XX/2018 an...   \n",
       "10     Chase Card be report on XX / XX/2019 . however...   \n",
       "11     on XX / XX/2018 , while try to book a xxxx   x...   \n",
       "14     my grand son give I check for { $ 1600.00 } I ...   \n",
       "...                                                  ...   \n",
       "78303  after be a Chase Card customer for well over a...   \n",
       "78309  on Wednesday , XX / XX / XXXX I call Chas , my...   \n",
       "78310  I be not familiar with xxxx pay and do not und...   \n",
       "78311  I have have flawless credit for 30 yrs . I 've...   \n",
       "78312  roughly 10 + year ago I close out my account w...   \n",
       "\n",
       "                                   complaint_POS_removed  \\\n",
       "1      morning name stop service ask debt verificatio...   \n",
       "2      card agent upgrade date agent information orde...   \n",
       "10     application identity consent service credit id...   \n",
       "11     try book xxxx ticket offer ticket card informa...   \n",
       "14     son chase account fund bank account pay money ...   \n",
       "...                                                  ...   \n",
       "78303  customer decade solicitation credit card airli...   \n",
       "78309  provider claim purchase protection benefit sch...   \n",
       "78310  pay risk provide consumer bank app year mobile...   \n",
       "78311  credit yrs credit card xxxx problem balance tr...   \n",
       "78312  year account order line credit account payment...   \n",
       "\n",
       "                                         Complaint_clean                Topic  \n",
       "1      morning name stop service ask debt verificatio...     Customer Details  \n",
       "2      card agent upgrade date agent information orde...     Customer Details  \n",
       "10     application identity consent service credit id...  Credit Card Details  \n",
       "11     try book  ticket offer ticket card information...  Credit Card Details  \n",
       "14     son chase account fund bank account pay money ...     Customer Details  \n",
       "...                                                  ...                  ...  \n",
       "78303  customer decade solicitation credit card airli...  Credit Card Details  \n",
       "78309  provider claim purchase protection benefit sch...     Customer Details  \n",
       "78310  pay risk provide consumer bank app year mobile...     Customer Details  \n",
       "78311  credit yrs credit card  problem balance transf...        Loan/Mortgage  \n",
       "78312  year account order line credit account payment...        Loan/Mortgage  \n",
       "\n",
       "[21072 rows x 5 columns]"
      ]
     },
     "execution_count": 23,
     "metadata": {},
     "output_type": "execute_result"
    }
   ],
   "source": [
    "df_clean"
   ]
  },
  {
   "cell_type": "code",
   "execution_count": 213,
   "id": "ad3a8aed-7d25-4767-b5ca-83789c410721",
   "metadata": {},
   "outputs": [],
   "source": [
    "training_data= df_clean[['complaints_what_happened','Topic']][:1000]"
   ]
  },
  {
   "cell_type": "code",
   "execution_count": 214,
   "id": "cadd7f00-8fee-4264-b87c-3766774120a9",
   "metadata": {},
   "outputs": [
    {
     "data": {
      "text/plain": [
       "{'Credit Card Details', 'Customer Details', 'Loan/Mortgage', 'Transactions'}"
      ]
     },
     "execution_count": 214,
     "metadata": {},
     "output_type": "execute_result"
    }
   ],
   "source": [
    "\n",
    "# #Write your code to get the Vector count\n",
    "# count_vector=CountVectorizer()\n",
    "\n",
    "# #Write your code here to transform the word vector to tf-idf\n",
    "# X_train_count=count_vector.fit_transform(training_data['complaints_what_happened'])\n",
    "# # tfidf_transform= TfidfTransformer()\n",
    "# # X_train_tfidf = tfidf_transform.fit_transform(X_train_count).toarray() \n",
    "set(training_data['Topic'].to_list())"
   ]
  },
  {
   "cell_type": "code",
   "execution_count": 215,
   "id": "f96d1aff-6aa3-4fe4-871d-cc6b09e24024",
   "metadata": {},
   "outputs": [],
   "source": [
    "from keras.utils import to_categorical\n",
    "\n",
    "topic_dict = {topic: i for i, topic in enumerate(training_data['Topic'].unique())}\n",
    "\n",
    "# Replace the string values in the 'Topic' column with the corresponding integer values\n",
    "y_train_int = training_data['Topic'].map(topic_dict)\n",
    "\n",
    "y_train_transformed = to_categorical(y_train_int, num_classes=4)"
   ]
  },
  {
   "cell_type": "code",
   "execution_count": 216,
   "id": "491087f4-f90b-4879-9110-f301014f2d9e",
   "metadata": {},
   "outputs": [],
   "source": [
    "vectorizer = TfidfVectorizer().fit(training_data['complaints_what_happened'])\n",
    "#vectorizer_label = TfidfVectorizer().fit(training_data['Topic'])\n",
    "\n",
    "tfidf_vector_X = vectorizer.transform(training_data['complaints_what_happened']).toarray()  #//shape - (3,6)\n",
    "# tfidf_vector_Y = vectorizer.transform(training_data.Topic).toarray() #//shape - (3,6)\n",
    "tfidf_vector_X = tfidf_vector_X[:, :, None] #//shape - (3,6,1) \n",
    "# tfidf_vector_Y = tfidf_vector_Y[:, :, None] #//shape - (3,6,1)"
   ]
  },
  {
   "cell_type": "code",
   "execution_count": 217,
   "id": "9fc7dd41-f1c7-4158-a507-eb720731f7f1",
   "metadata": {},
   "outputs": [
    {
     "data": {
      "text/plain": [
       "array([[1., 0., 0., 0.],\n",
       "       [1., 0., 0., 0.],\n",
       "       [0., 1., 0., 0.],\n",
       "       ...,\n",
       "       [1., 0., 0., 0.],\n",
       "       [1., 0., 0., 0.],\n",
       "       [1., 0., 0., 0.]], dtype=float32)"
      ]
     },
     "execution_count": 217,
     "metadata": {},
     "output_type": "execute_result"
    }
   ],
   "source": [
    "y_train_transformed"
   ]
  },
  {
   "cell_type": "code",
   "execution_count": 218,
   "id": "22ab61f4-df10-4ad9-9f99-c260298c4c03",
   "metadata": {},
   "outputs": [],
   "source": [
    "# X_train, X_test, y_train, y_test = train_test_split(X_train_tfidf, training_data.Topic, test_size=0.20, random_state=42)\n",
    "\n",
    "X_train_full, X_test, y_train_full, y_test = train_test_split(tfidf_vector_X, y_train_transformed, test_size = 0.2, random_state = 42)\n",
    "\n",
    "X_train, X_valid, y_train, y_valid = train_test_split(X_train_full, y_train_full, test_size = 0.2, random_state = 42)"
   ]
  },
  {
   "cell_type": "code",
   "execution_count": 219,
   "id": "525201d6-f3c2-4109-ab01-c4283cdcf492",
   "metadata": {},
   "outputs": [
    {
     "data": {
      "text/plain": [
       "((640, 8275, 1), (160, 8275, 1))"
      ]
     },
     "execution_count": 219,
     "metadata": {},
     "output_type": "execute_result"
    }
   ],
   "source": [
    "X_train.shape, X_valid.shape"
   ]
  },
  {
   "cell_type": "code",
   "execution_count": 220,
   "id": "ac1175e1-a180-477b-a604-2f34de7738b0",
   "metadata": {},
   "outputs": [
    {
     "data": {
      "text/plain": [
       "(4,)"
      ]
     },
     "execution_count": 220,
     "metadata": {},
     "output_type": "execute_result"
    }
   ],
   "source": [
    "y_valid[0].shape"
   ]
  },
  {
   "cell_type": "code",
   "execution_count": 221,
   "id": "08d79d7e-7c56-487a-b858-1cc79a747fe0",
   "metadata": {},
   "outputs": [
    {
     "name": "stdout",
     "output_type": "stream",
     "text": [
      "Model: \"sequential_35\"\n",
      "_________________________________________________________________\n",
      " Layer (type)                Output Shape              Param #   \n",
      "=================================================================\n",
      " simple_rnn_56 (SimpleRNN)   (None, 8275, 10)          120       \n",
      "                                                                 \n",
      " simple_rnn_57 (SimpleRNN)   (None, 5)                 80        \n",
      "                                                                 \n",
      " output (Dense)              (None, 4)                 24        \n",
      "                                                                 \n",
      "=================================================================\n",
      "Total params: 224\n",
      "Trainable params: 224\n",
      "Non-trainable params: 0\n",
      "_________________________________________________________________\n",
      "None\n"
     ]
    }
   ],
   "source": [
    "from keras import Sequential\n",
    "from keras.layers import SimpleRNN, Dense\n",
    "\n",
    "model = Sequential()\n",
    "model.add(SimpleRNN(10, input_shape = X_train.shape[1:], return_sequences = True))\n",
    "model.add(SimpleRNN(5))\n",
    "model.add(Dense(units=4, activation='softmax', name='output'))\n",
    "model.compile(loss='categorical_crossentropy', optimizer='sgd', metrics = ['accuracy'])\n",
    "\n",
    "print(model.summary())"
   ]
  },
  {
   "cell_type": "code",
   "execution_count": 223,
   "id": "3469b9f1-9629-458b-b621-2e27e15a9565",
   "metadata": {},
   "outputs": [
    {
     "name": "stdout",
     "output_type": "stream",
     "text": [
      "Epoch 1/10\n",
      "10/10 [==============================] - 135s 13s/step - loss: 1.5749 - accuracy: 0.4437 - val_loss: 1.4518 - val_accuracy: 0.4688\n",
      "Epoch 2/10\n",
      "10/10 [==============================] - 131s 13s/step - loss: 1.4981 - accuracy: 0.4875 - val_loss: 1.4039 - val_accuracy: 0.4688\n",
      "Epoch 3/10\n",
      "10/10 [==============================] - 111s 11s/step - loss: 1.4446 - accuracy: 0.4875 - val_loss: 1.3701 - val_accuracy: 0.4688\n",
      "Epoch 4/10\n",
      "10/10 [==============================] - 93s 9s/step - loss: 1.4042 - accuracy: 0.4875 - val_loss: 1.3451 - val_accuracy: 0.4688\n",
      "Epoch 5/10\n",
      "10/10 [==============================] - 95s 9s/step - loss: 1.3725 - accuracy: 0.4875 - val_loss: 1.3266 - val_accuracy: 0.4688\n",
      "Epoch 6/10\n",
      "10/10 [==============================] - 96s 10s/step - loss: 1.3476 - accuracy: 0.4875 - val_loss: 1.3131 - val_accuracy: 0.4688\n",
      "Epoch 7/10\n",
      "10/10 [==============================] - 90s 9s/step - loss: 1.3276 - accuracy: 0.4875 - val_loss: 1.3029 - val_accuracy: 0.4688\n",
      "Epoch 8/10\n",
      "10/10 [==============================] - 91s 9s/step - loss: 1.3115 - accuracy: 0.4875 - val_loss: 1.2954 - val_accuracy: 0.4688\n",
      "Epoch 9/10\n",
      "10/10 [==============================] - 92s 9s/step - loss: 1.2986 - accuracy: 0.4875 - val_loss: 1.2896 - val_accuracy: 0.4688\n",
      "Epoch 10/10\n",
      "10/10 [==============================] - 91s 9s/step - loss: 1.2877 - accuracy: 0.4875 - val_loss: 1.2851 - val_accuracy: 0.4688\n"
     ]
    }
   ],
   "source": [
    "history = model.fit(X_train,y_train, epochs=10,\n",
    "                     batch_size=64, validation_data=(X_valid, y_valid))"
   ]
  },
  {
   "cell_type": "code",
   "execution_count": 224,
   "id": "b430fbc9-00d3-4572-b4c8-556a7858d739",
   "metadata": {},
   "outputs": [
    {
     "name": "stdout",
     "output_type": "stream",
     "text": [
      "7/7 [==============================] - 3s 358ms/step - loss: 1.3378 - accuracy: 0.4450\n",
      "Test Loss: 1.3378002643585205\n",
      "Test Accuracy: 0.4449999928474426\n"
     ]
    }
   ],
   "source": [
    "test_loss, test_acc = model.evaluate(X_test, y_test)\n",
    "\n",
    "print('Test Loss:', test_loss)\n",
    "print('Test Accuracy:', test_acc)"
   ]
  },
  {
   "cell_type": "code",
   "execution_count": 107,
   "id": "4e8ca9b1-e528-45d5-8cd8-b011c0f735d7",
   "metadata": {},
   "outputs": [
    {
     "name": "stdout",
     "output_type": "stream",
     "text": [
      "1/1 [==============================] - 1s 584ms/step\n"
     ]
    },
    {
     "data": {
      "text/plain": [
       "array([[-0.85196275]], dtype=float32)"
      ]
     },
     "execution_count": 107,
     "metadata": {},
     "output_type": "execute_result"
    }
   ],
   "source": [
    "sample_text = ['The movie was cool. The animation and the graphics ,were out of this world. I would recommend this movie.']\n",
    "svc = vectorizer.transform(sample_text).toarray()\n",
    "predictions = model.predict(svc)\n",
    "predictions"
   ]
  },
  {
   "cell_type": "code",
   "execution_count": 201,
   "id": "eb5a6543-9cb5-48c3-a77a-4f22fcc69e3b",
   "metadata": {},
   "outputs": [],
   "source": [
    "import matplotlib.pyplot as plt\n",
    "\n",
    "\n",
    "def plot_graphs(history, metric):\n",
    "  plt.plot(history.history[metric])\n",
    "  plt.plot(history.history['val_'+metric], '')\n",
    "  plt.xlabel(\"Epochs\")\n",
    "  plt.ylabel(metric)\n",
    "  plt.legend([metric, 'val_'+metric])"
   ]
  },
  {
   "cell_type": "code",
   "execution_count": 202,
   "id": "431d60ab-cd21-4f73-b898-812362807a26",
   "metadata": {},
   "outputs": [
    {
     "data": {
      "image/png": "[encoded data removed]",
      "text/plain": [
       "<Figure size 1600x600 with 2 Axes>"
      ]
     },
     "metadata": {},
     "output_type": "display_data"
    }
   ],
   "source": [
    "plt.figure(figsize=(16, 6))\n",
    "plt.subplot(1, 2, 1)\n",
    "plot_graphs(history, 'accuracy')\n",
    "plt.subplot(1, 2, 2)\n",
    "plot_graphs(history, 'loss')"
   ]
  },
  {
   "cell_type": "code",
   "execution_count": 228,
   "id": "67be917e-fbba-4c27-8d23-873c473bba87",
   "metadata": {},
   "outputs": [],
   "source": [
    "import os\n",
    "\n",
    "model_version = \"0001\"\n",
    "model_name = \"C:\\\\upgrad assignments\\\\Model Deployment\\\\test_model_deploy\"\n",
    "\n",
    "model_path = os.path.join(model_name, model_version)"
   ]
  },
  {
   "cell_type": "code",
   "execution_count": 230,
   "id": "2a469c88-4e16-4df7-881d-e860234c39e1",
   "metadata": {},
   "outputs": [
    {
     "name": "stderr",
     "output_type": "stream",
     "text": [
      "WARNING:absl:Found untraced functions such as _update_step_xla while saving (showing 1 of 1). These functions will not be directly callable after loading.\n"
     ]
    },
    {
     "name": "stdout",
     "output_type": "stream",
     "text": [
      "INFO:tensorflow:Assets written to: C:\\upgrad assignments\\Model Deployment\\test_model_deploy\\0001\\assets\n"
     ]
    },
    {
     "name": "stderr",
     "output_type": "stream",
     "text": [
      "INFO:tensorflow:Assets written to: C:\\upgrad assignments\\Model Deployment\\test_model_deploy\\0001\\assets\n"
     ]
    }
   ],
   "source": [
    "tf.saved_model.save(model, model_path)"
   ]
  },
  {
   "cell_type": "code",
   "execution_count": 232,
   "id": "80041409-6d8b-457e-af39-5c1d0ccd3925",
   "metadata": {},
   "outputs": [],
   "source": [
    "import requests\n",
    "import json"
   ]
  },
  {
   "cell_type": "code",
   "execution_count": 255,
   "id": "ba3977aa-118a-4e18-b4ad-bd98fcad2063",
   "metadata": {},
   "outputs": [],
   "source": [
    "input_data_json = json.dumps({\n",
    "                            \"signature_name\": \"serving_default\",\n",
    "                            \"instances\": X_valid.tolist()})"
   ]
  },
  {
   "cell_type": "code",
   "execution_count": 256,
   "id": "4b154941-cd61-433b-8d3a-b7304f30aa3c",
   "metadata": {},
   "outputs": [],
   "source": [
    "SERVER_URL = \"http://localhost:8501/v1/models/1:predict\"\n",
    "response = requests.post(SERVER_URL, data=input_data_json)"
   ]
  },
  {
   "cell_type": "code",
   "execution_count": 257,
   "id": "38339dae-c253-4e47-8d4d-5061b1a462a5",
   "metadata": {},
   "outputs": [],
   "source": [
    "response.raise_for_status()"
   ]
  },
  {
   "cell_type": "code",
   "execution_count": 258,
   "id": "1bfff3e7-0178-4393-b611-0e665eec496f",
   "metadata": {},
   "outputs": [
    {
     "data": {
      "text/plain": [
       "{'predictions': [[0.471549958, 0.135468408, 0.227466524, 0.16551514],\n",
       "  [0.471570104, 0.135480464, 0.227593809, 0.165355548],\n",
       "  [0.471309394, 0.135650337, 0.227549225, 0.16549103],\n",
       "  [0.471526653, 0.135479897, 0.227455348, 0.165538207],\n",
       "  [0.471640915, 0.135403454, 0.227483183, 0.165472358],\n",
       "  [0.471544355, 0.135470614, 0.227461174, 0.165523887],\n",
       "  [0.471555084, 0.135464683, 0.227467254, 0.165512934],\n",
       "  [0.471473128, 0.135500729, 0.227405205, 0.165620893],\n",
       "  [0.471272141, 0.135582089, 0.227264568, 0.165881261],\n",
       "  [0.471544236, 0.135470539, 0.227460891, 0.165524304],\n",
       "  [0.4715738, 0.135449782, 0.227467164, 0.165509194],\n",
       "  [0.471685886, 0.135376871, 0.227504268, 0.16543296],\n",
       "  [0.471788555, 0.135374457, 0.227764472, 0.16507256],\n",
       "  [0.47134456, 0.135566235, 0.22733517, 0.165753946],\n",
       "  [0.471546888, 0.13546969, 0.227463856, 0.165519506],\n",
       "  [0.471571118, 0.135459736, 0.227485716, 0.165483505],\n",
       "  [0.471549511, 0.135467514, 0.227463558, 0.165519372],\n",
       "  [0.471498191, 0.135511458, 0.227501273, 0.165489063],\n",
       "  [0.471550703, 0.135467857, 0.227466643, 0.165514812],\n",
       "  [0.471511573, 0.135493338, 0.227456778, 0.165538251],\n",
       "  [0.471544415, 0.135470539, 0.227461204, 0.165523827],\n",
       "  [0.471524745, 0.135452524, 0.227391, 0.165631726],\n",
       "  [0.47110194, 0.135828897, 0.22770153, 0.165367633],\n",
       "  [0.471558183, 0.135464728, 0.227473348, 0.16550374],\n",
       "  [0.47145474, 0.135511279, 0.227402061, 0.165631786],\n",
       "  [0.471492082, 0.135512099, 0.227487326, 0.165508449],\n",
       "  [0.471609235, 0.135435969, 0.227498949, 0.165455982],\n",
       "  [0.47146982, 0.135505155, 0.227412239, 0.165612817],\n",
       "  [0.471540809, 0.135462373, 0.227438435, 0.165558398],\n",
       "  [0.471541, 0.135472581, 0.227459639, 0.165526792],\n",
       "  [0.471431494, 0.135524154, 0.227389634, 0.165654644],\n",
       "  [0.471561313, 0.135461599, 0.227471769, 0.165505216],\n",
       "  [0.471169233, 0.135648653, 0.227221057, 0.165961042],\n",
       "  [0.471556336, 0.135464624, 0.227469563, 0.165509388],\n",
       "  [0.471541047, 0.135472581, 0.227459684, 0.165526837],\n",
       "  [0.471567273, 0.135458171, 0.227474347, 0.165500104],\n",
       "  [0.471599281, 0.135432467, 0.227473855, 0.165494427],\n",
       "  [0.471409798, 0.135560021, 0.227414057, 0.165616199],\n",
       "  [0.47141543, 0.135559097, 0.22742191, 0.165603459],\n",
       "  [0.471599102, 0.135433346, 0.227475464, 0.165492103],\n",
       "  [0.47158888, 0.135446966, 0.22748743, 0.165476754],\n",
       "  [0.4713808, 0.135552347, 0.227370501, 0.165696293],\n",
       "  [0.471424073, 0.135543168, 0.227409929, 0.165622771],\n",
       "  [0.471455425, 0.135538384, 0.227493361, 0.165512785],\n",
       "  [0.471541, 0.135472566, 0.22745949, 0.165527061],\n",
       "  [0.47155273, 0.135468051, 0.227470964, 0.16550827],\n",
       "  [0.471509218, 0.135489881, 0.227445245, 0.165555686],\n",
       "  [0.471416086, 0.135563791, 0.227447808, 0.165572301],\n",
       "  [0.471501052, 0.135490656, 0.227433637, 0.165574521],\n",
       "  [0.471541, 0.135472581, 0.22745961, 0.165526822],\n",
       "  [0.471550524, 0.135468796, 0.227468625, 0.165511966],\n",
       "  [0.471574694, 0.135449335, 0.227467671, 0.165508255],\n",
       "  [0.471579552, 0.135450423, 0.227479175, 0.16549091],\n",
       "  [0.471625358, 0.135423034, 0.227500498, 0.165451035],\n",
       "  [0.471547842, 0.135469571, 0.227465361, 0.165517211],\n",
       "  [0.471540928, 0.13547264, 0.227459669, 0.165526807],\n",
       "  [0.471541047, 0.135472581, 0.227459684, 0.165526807],\n",
       "  [0.471551538, 0.135467902, 0.227468401, 0.16551207],\n",
       "  [0.471554875, 0.135465235, 0.227468058, 0.165511951],\n",
       "  [0.471532, 0.135481432, 0.227462023, 0.165524483],\n",
       "  [0.471721262, 0.135347262, 0.227500349, 0.165431082],\n",
       "  [0.471553057, 0.135466397, 0.227467448, 0.165513188],\n",
       "  [0.471316397, 0.135597229, 0.227343976, 0.165742397],\n",
       "  [0.471483737, 0.135523617, 0.227511987, 0.165480599],\n",
       "  [0.471541, 0.135472596, 0.227459639, 0.165526807],\n",
       "  [0.471515238, 0.135481298, 0.227437809, 0.165565655],\n",
       "  [0.471573174, 0.135456502, 0.227481797, 0.165488541],\n",
       "  [0.471564263, 0.135459438, 0.227472112, 0.165504083],\n",
       "  [0.471544236, 0.135472164, 0.22746484, 0.165518686],\n",
       "  [0.471516907, 0.135479391, 0.227433935, 0.165569723],\n",
       "  [0.471403718, 0.135598898, 0.227564171, 0.165433183],\n",
       "  [0.471682131, 0.135329947, 0.227346882, 0.165640935],\n",
       "  [0.471541, 0.135472611, 0.227459699, 0.165526807],\n",
       "  [0.471500278, 0.135485873, 0.227420062, 0.165593728],\n",
       "  [0.471381038, 0.135579705, 0.227404952, 0.165634319],\n",
       "  [0.471539468, 0.13547346, 0.227458909, 0.165528148],\n",
       "  [0.471559525, 0.135463893, 0.227473795, 0.165502802],\n",
       "  [0.471439242, 0.135532662, 0.227413327, 0.165614799],\n",
       "  [0.471666396, 0.135386959, 0.227491722, 0.165454909],\n",
       "  [0.471589833, 0.135443568, 0.22747916, 0.165487409],\n",
       "  [0.471440136, 0.135569274, 0.227571666, 0.165418833],\n",
       "  [0.471540928, 0.13547264, 0.227459669, 0.165526792],\n",
       "  [0.471550375, 0.135467038, 0.227463961, 0.165518686],\n",
       "  [0.471577734, 0.135452688, 0.227480531, 0.165489078],\n",
       "  [0.471601695, 0.135432139, 0.227477595, 0.165488541],\n",
       "  [0.471589535, 0.135447487, 0.227490157, 0.165472731],\n",
       "  [0.471386194, 0.135566056, 0.227393448, 0.165654331],\n",
       "  [0.471541047, 0.135472581, 0.227459684, 0.165526837],\n",
       "  [0.471631587, 0.135409862, 0.22748071, 0.165477872],\n",
       "  [0.471540362, 0.135472953, 0.227459371, 0.165527329],\n",
       "  [0.471547276, 0.135470212, 0.227465793, 0.165516779],\n",
       "  [0.471559405, 0.135465503, 0.227477565, 0.165497497],\n",
       "  [0.471705794, 0.135426387, 0.227665305, 0.165202498],\n",
       "  [0.471558452, 0.135464594, 0.227473512, 0.165503412],\n",
       "  [0.471535742, 0.135476828, 0.22746, 0.165527388],\n",
       "  [0.471524507, 0.135513827, 0.227575585, 0.165386036],\n",
       "  [0.471560925, 0.135460809, 0.227468953, 0.165509298],\n",
       "  [0.471424252, 0.13552852, 0.227385744, 0.165661499],\n",
       "  [0.471545756, 0.135470077, 0.227462694, 0.165521398],\n",
       "  [0.471541, 0.135472581, 0.227459639, 0.165526792],\n",
       "  [0.471306115, 0.135639399, 0.227511913, 0.165542588],\n",
       "  [0.471560866, 0.135464445, 0.227477759, 0.165496975],\n",
       "  [0.471540928, 0.135472685, 0.227459714, 0.165526792],\n",
       "  [0.471395582, 0.135607779, 0.227603942, 0.165392712],\n",
       "  [0.47156471, 0.135459319, 0.227472529, 0.165503412],\n",
       "  [0.47153008, 0.135487348, 0.227474883, 0.165507615],\n",
       "  [0.471554, 0.135466248, 0.227468953, 0.165510818],\n",
       "  [0.471721441, 0.13534984, 0.227506891, 0.165421695],\n",
       "  [0.471548, 0.135470435, 0.22746782, 0.165513709],\n",
       "  [0.471399784, 0.135540694, 0.227371976, 0.165687546],\n",
       "  [0.471572578, 0.13545534, 0.227477789, 0.165494382],\n",
       "  [0.47155267, 0.135465667, 0.227465063, 0.165516615],\n",
       "  [0.471498936, 0.135503083, 0.227450311, 0.165547684],\n",
       "  [0.471559644, 0.135463476, 0.227472931, 0.165504009],\n",
       "  [0.471279562, 0.135713041, 0.227710426, 0.165296942],\n",
       "  [0.471252471, 0.13571988, 0.227696955, 0.165330678],\n",
       "  [0.471404016, 0.135552555, 0.227394804, 0.165648654],\n",
       "  [0.471565038, 0.135460854, 0.22747691, 0.165497184],\n",
       "  [0.471558064, 0.13546364, 0.227470458, 0.165507808],\n",
       "  [0.471556485, 0.135464624, 0.227469772, 0.165509105],\n",
       "  [0.471490771, 0.13551794, 0.227539673, 0.165451542],\n",
       "  [0.47157076, 0.135455772, 0.227475375, 0.165498108],\n",
       "  [0.471558183, 0.135464445, 0.227472603, 0.165504768],\n",
       "  [0.471564591, 0.135458618, 0.227470487, 0.165506408],\n",
       "  [0.471542716, 0.135472909, 0.227463692, 0.165520683],\n",
       "  [0.471560776, 0.135463759, 0.227475911, 0.165499538],\n",
       "  [0.471171141, 0.135736868, 0.227534056, 0.165557832],\n",
       "  [0.471504152, 0.135539517, 0.227600336, 0.165355951],\n",
       "  [0.471562892, 0.135461703, 0.227474958, 0.165500402],\n",
       "  [0.471580774, 0.135451332, 0.22748284, 0.165485],\n",
       "  [0.471146315, 0.135897025, 0.227372393, 0.165584266],\n",
       "  [0.471556932, 0.135465071, 0.227471858, 0.165506],\n",
       "  [0.471575499, 0.135454103, 0.227480009, 0.165490389],\n",
       "  [0.471577913, 0.135477647, 0.22758083, 0.165363625],\n",
       "  [0.470935524, 0.135737017, 0.227345601, 0.16598177],\n",
       "  [0.471545637, 0.135471299, 0.227465287, 0.165517822],\n",
       "  [0.471492589, 0.135517463, 0.227476597, 0.165513381],\n",
       "  [0.471632898, 0.135425642, 0.22751902, 0.165422469],\n",
       "  [0.471541047, 0.135472566, 0.227459699, 0.165526763],\n",
       "  [0.471550941, 0.135465786, 0.227464765, 0.165518582],\n",
       "  [0.471004963, 0.135863945, 0.227636352, 0.165494651],\n",
       "  [0.471572906, 0.135453627, 0.227474302, 0.165499166],\n",
       "  [0.471398562, 0.135540456, 0.227369502, 0.16569154],\n",
       "  [0.471472055, 0.135507733, 0.227417871, 0.165602386],\n",
       "  [0.471640021, 0.135411292, 0.227498949, 0.165449709],\n",
       "  [0.471515179, 0.13548407, 0.227442741, 0.165557951],\n",
       "  [0.471550018, 0.135468438, 0.227466658, 0.165514916],\n",
       "  [0.471482337, 0.135501266, 0.227424234, 0.165592104],\n",
       "  [0.471555889, 0.13544634, 0.227431521, 0.165566325],\n",
       "  [0.471518666, 0.135490537, 0.227460712, 0.16553022],\n",
       "  [0.471541, 0.135472596, 0.227459639, 0.165526807],\n",
       "  [0.471556783, 0.135464072, 0.227469012, 0.165510118],\n",
       "  [0.471542954, 0.135472924, 0.227464154, 0.165520027],\n",
       "  [0.471538275, 0.135470927, 0.2274535, 0.165537208],\n",
       "  [0.471546769, 0.135469958, 0.227464244, 0.165519029],\n",
       "  [0.47156769, 0.135457888, 0.227474734, 0.165499702],\n",
       "  [0.471660137, 0.135393888, 0.227496877, 0.165449023],\n",
       "  [0.471639812, 0.135460764, 0.227596447, 0.165302917],\n",
       "  [0.471729249, 0.135341123, 0.227500901, 0.165428624],\n",
       "  [0.47154665, 0.135469228, 0.227462262, 0.165521845]]}"
      ]
     },
     "execution_count": 258,
     "metadata": {},
     "output_type": "execute_result"
    }
   ],
   "source": [
    "response.json()"
   ]
  },
  {
   "cell_type": "code",
   "execution_count": null,
   "id": "fa063ac6-144b-44b9-aa23-a8138410fc61",
   "metadata": {},
   "outputs": [],
   "source": []
  }
 ],
 "metadata": {
  "kernelspec": {
   "display_name": "Python 3 (ipykernel)",
   "language": "python",
   "name": "python3"
  },
  "language_info": {
   "codemirror_mode": {
    "name": "ipython",
    "version": 3
   },
   "file_extension": ".py",
   "mimetype": "text/x-python",
   "name": "python",
   "nbconvert_exporter": "python",
   "pygments_lexer": "ipython3",
   "version": "3.8.0"
  }
 },
 "nbformat": 4,
 "nbformat_minor": 5
}
